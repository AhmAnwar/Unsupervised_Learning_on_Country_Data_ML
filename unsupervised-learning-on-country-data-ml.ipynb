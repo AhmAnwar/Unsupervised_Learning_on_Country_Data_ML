{
 "cells": [
  {
   "cell_type": "markdown",
   "id": "de091293",
   "metadata": {
    "id": "SGHeUHyJLNWH",
    "papermill": {
     "duration": 0.008597,
     "end_time": "2023-11-28T08:06:34.647000",
     "exception": false,
     "start_time": "2023-11-28T08:06:34.638403",
     "status": "completed"
    },
    "tags": []
   },
   "source": [
    "# Import Libraries"
   ]
  },
  {
   "cell_type": "code",
   "execution_count": 1,
   "id": "ca13a204",
   "metadata": {
    "execution": {
     "iopub.execute_input": "2023-11-28T08:06:34.658751Z",
     "iopub.status.busy": "2023-11-28T08:06:34.658382Z",
     "iopub.status.idle": "2023-11-28T08:06:37.191443Z",
     "shell.execute_reply": "2023-11-28T08:06:37.190236Z"
    },
    "id": "r08VjrgLLWGJ",
    "papermill": {
     "duration": 2.541792,
     "end_time": "2023-11-28T08:06:37.193988",
     "exception": false,
     "start_time": "2023-11-28T08:06:34.652196",
     "status": "completed"
    },
    "tags": []
   },
   "outputs": [],
   "source": [
    "import numpy as np\n",
    "import pandas as pd\n",
    "import plotly.express as px\n",
    "import plotly.graph_objects as go\n",
    "from plotly.subplots import make_subplots\n",
    "\n",
    "from sklearn.preprocessing import StandardScaler\n",
    "\n",
    "from sklearn.cluster import KMeans"
   ]
  },
  {
   "cell_type": "markdown",
   "id": "acee0483",
   "metadata": {
    "id": "ZEb-vjf5L2kZ",
    "papermill": {
     "duration": 0.004485,
     "end_time": "2023-11-28T08:06:37.203648",
     "exception": false,
     "start_time": "2023-11-28T08:06:37.199163",
     "status": "completed"
    },
    "tags": []
   },
   "source": [
    "# Import Dataset"
   ]
  },
  {
   "cell_type": "code",
   "execution_count": 2,
   "id": "f9d3edd2",
   "metadata": {
    "execution": {
     "iopub.execute_input": "2023-11-28T08:06:37.215357Z",
     "iopub.status.busy": "2023-11-28T08:06:37.214602Z",
     "iopub.status.idle": "2023-11-28T08:06:37.247376Z",
     "shell.execute_reply": "2023-11-28T08:06:37.246438Z"
    },
    "id": "cPdhFYklMBWI",
    "papermill": {
     "duration": 0.041201,
     "end_time": "2023-11-28T08:06:37.249496",
     "exception": false,
     "start_time": "2023-11-28T08:06:37.208295",
     "status": "completed"
    },
    "tags": []
   },
   "outputs": [],
   "source": [
    "df = pd.read_csv('/kaggle/input/unsupervised-learning-on-country-data/Country-data.csv')"
   ]
  },
  {
   "cell_type": "code",
   "execution_count": 3,
   "id": "5e642910",
   "metadata": {
    "execution": {
     "iopub.execute_input": "2023-11-28T08:06:37.262123Z",
     "iopub.status.busy": "2023-11-28T08:06:37.260879Z",
     "iopub.status.idle": "2023-11-28T08:06:37.297602Z",
     "shell.execute_reply": "2023-11-28T08:06:37.296378Z"
    },
    "id": "6QWnnpALMNSl",
    "outputId": "b8933f08-cbb2-412d-943e-5837e0f89cfd",
    "papermill": {
     "duration": 0.045039,
     "end_time": "2023-11-28T08:06:37.299606",
     "exception": false,
     "start_time": "2023-11-28T08:06:37.254567",
     "status": "completed"
    },
    "tags": []
   },
   "outputs": [
    {
     "data": {
      "text/html": [
       "<div>\n",
       "<style scoped>\n",
       "    .dataframe tbody tr th:only-of-type {\n",
       "        vertical-align: middle;\n",
       "    }\n",
       "\n",
       "    .dataframe tbody tr th {\n",
       "        vertical-align: top;\n",
       "    }\n",
       "\n",
       "    .dataframe thead th {\n",
       "        text-align: right;\n",
       "    }\n",
       "</style>\n",
       "<table border=\"1\" class=\"dataframe\">\n",
       "  <thead>\n",
       "    <tr style=\"text-align: right;\">\n",
       "      <th></th>\n",
       "      <th>country</th>\n",
       "      <th>child_mort</th>\n",
       "      <th>exports</th>\n",
       "      <th>health</th>\n",
       "      <th>imports</th>\n",
       "      <th>income</th>\n",
       "      <th>inflation</th>\n",
       "      <th>life_expec</th>\n",
       "      <th>total_fer</th>\n",
       "      <th>gdpp</th>\n",
       "    </tr>\n",
       "  </thead>\n",
       "  <tbody>\n",
       "    <tr>\n",
       "      <th>137</th>\n",
       "      <td>South Africa</td>\n",
       "      <td>53.7</td>\n",
       "      <td>28.6</td>\n",
       "      <td>8.94</td>\n",
       "      <td>27.4</td>\n",
       "      <td>12000</td>\n",
       "      <td>6.35</td>\n",
       "      <td>54.3</td>\n",
       "      <td>2.59</td>\n",
       "      <td>7280</td>\n",
       "    </tr>\n",
       "    <tr>\n",
       "      <th>71</th>\n",
       "      <td>Iran</td>\n",
       "      <td>19.3</td>\n",
       "      <td>24.4</td>\n",
       "      <td>5.60</td>\n",
       "      <td>19.4</td>\n",
       "      <td>17400</td>\n",
       "      <td>15.90</td>\n",
       "      <td>74.5</td>\n",
       "      <td>1.76</td>\n",
       "      <td>6530</td>\n",
       "    </tr>\n",
       "    <tr>\n",
       "      <th>20</th>\n",
       "      <td>Bosnia and Herzegovina</td>\n",
       "      <td>6.9</td>\n",
       "      <td>29.7</td>\n",
       "      <td>11.10</td>\n",
       "      <td>51.3</td>\n",
       "      <td>9720</td>\n",
       "      <td>1.40</td>\n",
       "      <td>76.8</td>\n",
       "      <td>1.31</td>\n",
       "      <td>4610</td>\n",
       "    </tr>\n",
       "  </tbody>\n",
       "</table>\n",
       "</div>"
      ],
      "text/plain": [
       "                    country  child_mort  exports  health  imports  income  \\\n",
       "137            South Africa        53.7     28.6    8.94     27.4   12000   \n",
       "71                     Iran        19.3     24.4    5.60     19.4   17400   \n",
       "20   Bosnia and Herzegovina         6.9     29.7   11.10     51.3    9720   \n",
       "\n",
       "     inflation  life_expec  total_fer  gdpp  \n",
       "137       6.35        54.3       2.59  7280  \n",
       "71       15.90        74.5       1.76  6530  \n",
       "20        1.40        76.8       1.31  4610  "
      ]
     },
     "execution_count": 3,
     "metadata": {},
     "output_type": "execute_result"
    }
   ],
   "source": [
    "df.sample(3)"
   ]
  },
  {
   "cell_type": "code",
   "execution_count": 4,
   "id": "a344971a",
   "metadata": {
    "execution": {
     "iopub.execute_input": "2023-11-28T08:06:37.312471Z",
     "iopub.status.busy": "2023-11-28T08:06:37.311354Z",
     "iopub.status.idle": "2023-11-28T08:06:37.319082Z",
     "shell.execute_reply": "2023-11-28T08:06:37.317694Z"
    },
    "id": "t85B1yZtMO7h",
    "outputId": "74f5011f-0436-42c1-fba8-0445ace3e033",
    "papermill": {
     "duration": 0.016328,
     "end_time": "2023-11-28T08:06:37.321122",
     "exception": false,
     "start_time": "2023-11-28T08:06:37.304794",
     "status": "completed"
    },
    "tags": []
   },
   "outputs": [
    {
     "data": {
      "text/plain": [
       "(167, 10)"
      ]
     },
     "execution_count": 4,
     "metadata": {},
     "output_type": "execute_result"
    }
   ],
   "source": [
    "df.shape"
   ]
  },
  {
   "cell_type": "markdown",
   "id": "e2823185",
   "metadata": {
    "id": "KhPlE3gR8BRK",
    "papermill": {
     "duration": 0.005328,
     "end_time": "2023-11-28T08:06:37.332345",
     "exception": false,
     "start_time": "2023-11-28T08:06:37.327017",
     "status": "completed"
    },
    "tags": []
   },
   "source": [
    "***About Dataset***  \n",
    "Clustering the Countries by using Unsupervised Learning for HELP International\n",
    "Objective:\n",
    "To categorise the countries using socio-economic and health factors that determine the overall development of the country.\n",
    "\n",
    "***About organization:***  \n",
    "HELP International is an international humanitarian NGO that is committed to fighting poverty and providing the people of backward countries with basic amenities and relief during the time of disasters and natural calamities.\n",
    "\n",
    "***Problem Statement:***  \n",
    "HELP International have been able to raise around $ 10 million. Now the CEO of the NGO needs to decide how to use this money strategically and effectively. So, CEO has to make decision to choose the countries that are in the direst need of aid. Hence, your Job as a Data scientist is to categorise the countries using some socio-economic and health factors that determine the overall development of the country. Then you need to suggest the countries which the CEO needs to focus on the most."
   ]
  },
  {
   "cell_type": "markdown",
   "id": "1dc0e1fb",
   "metadata": {
    "id": "doXic3RLMQlZ",
    "papermill": {
     "duration": 0.005063,
     "end_time": "2023-11-28T08:06:37.342827",
     "exception": false,
     "start_time": "2023-11-28T08:06:37.337764",
     "status": "completed"
    },
    "tags": []
   },
   "source": [
    "# Data Clean"
   ]
  },
  {
   "cell_type": "code",
   "execution_count": 5,
   "id": "7f90189a",
   "metadata": {
    "execution": {
     "iopub.execute_input": "2023-11-28T08:06:37.356306Z",
     "iopub.status.busy": "2023-11-28T08:06:37.354886Z",
     "iopub.status.idle": "2023-11-28T08:06:37.362360Z",
     "shell.execute_reply": "2023-11-28T08:06:37.361471Z"
    },
    "id": "G7nc-k69MUjA",
    "outputId": "b472704d-28a3-47a2-f4ac-f9b8e9865309",
    "papermill": {
     "duration": 0.016595,
     "end_time": "2023-11-28T08:06:37.364716",
     "exception": false,
     "start_time": "2023-11-28T08:06:37.348121",
     "status": "completed"
    },
    "tags": []
   },
   "outputs": [
    {
     "data": {
      "text/plain": [
       "country        object\n",
       "child_mort    float64\n",
       "exports       float64\n",
       "health        float64\n",
       "imports       float64\n",
       "income          int64\n",
       "inflation     float64\n",
       "life_expec    float64\n",
       "total_fer     float64\n",
       "gdpp            int64\n",
       "dtype: object"
      ]
     },
     "execution_count": 5,
     "metadata": {},
     "output_type": "execute_result"
    }
   ],
   "source": [
    "# check data type\n",
    "df.dtypes"
   ]
  },
  {
   "cell_type": "code",
   "execution_count": 6,
   "id": "c10c2425",
   "metadata": {
    "execution": {
     "iopub.execute_input": "2023-11-28T08:06:37.378521Z",
     "iopub.status.busy": "2023-11-28T08:06:37.378208Z",
     "iopub.status.idle": "2023-11-28T08:06:37.399972Z",
     "shell.execute_reply": "2023-11-28T08:06:37.398744Z"
    },
    "id": "ghhlSmkLMX_A",
    "outputId": "ad5f2166-7f34-41c3-81ee-fb37d17c33ed",
    "papermill": {
     "duration": 0.032,
     "end_time": "2023-11-28T08:06:37.402906",
     "exception": false,
     "start_time": "2023-11-28T08:06:37.370906",
     "status": "completed"
    },
    "tags": []
   },
   "outputs": [
    {
     "data": {
      "text/plain": [
       "(False, 0)"
      ]
     },
     "execution_count": 6,
     "metadata": {},
     "output_type": "execute_result"
    }
   ],
   "source": [
    "# check duplicated values\n",
    "df.duplicated().any(), df.duplicated().sum()"
   ]
  },
  {
   "cell_type": "code",
   "execution_count": 7,
   "id": "6613d643",
   "metadata": {
    "execution": {
     "iopub.execute_input": "2023-11-28T08:06:37.419211Z",
     "iopub.status.busy": "2023-11-28T08:06:37.418852Z",
     "iopub.status.idle": "2023-11-28T08:06:37.429038Z",
     "shell.execute_reply": "2023-11-28T08:06:37.427831Z"
    },
    "id": "676-LpPSMieI",
    "outputId": "a7782d08-4bd8-457b-89e1-700d7a06f6ae",
    "papermill": {
     "duration": 0.021844,
     "end_time": "2023-11-28T08:06:37.431107",
     "exception": false,
     "start_time": "2023-11-28T08:06:37.409263",
     "status": "completed"
    },
    "tags": []
   },
   "outputs": [
    {
     "data": {
      "text/plain": [
       "(country       False\n",
       " child_mort    False\n",
       " exports       False\n",
       " health        False\n",
       " imports       False\n",
       " income        False\n",
       " inflation     False\n",
       " life_expec    False\n",
       " total_fer     False\n",
       " gdpp          False\n",
       " dtype: bool,\n",
       " country       0\n",
       " child_mort    0\n",
       " exports       0\n",
       " health        0\n",
       " imports       0\n",
       " income        0\n",
       " inflation     0\n",
       " life_expec    0\n",
       " total_fer     0\n",
       " gdpp          0\n",
       " dtype: int64)"
      ]
     },
     "execution_count": 7,
     "metadata": {},
     "output_type": "execute_result"
    }
   ],
   "source": [
    "# check null values\n",
    "df.isnull().any(), df.isnull().sum()"
   ]
  },
  {
   "cell_type": "code",
   "execution_count": 8,
   "id": "f43bff0c",
   "metadata": {
    "execution": {
     "iopub.execute_input": "2023-11-28T08:06:37.445844Z",
     "iopub.status.busy": "2023-11-28T08:06:37.445466Z",
     "iopub.status.idle": "2023-11-28T08:06:37.454185Z",
     "shell.execute_reply": "2023-11-28T08:06:37.452703Z"
    },
    "id": "1J3uU0vbMoGP",
    "outputId": "921fa1ba-aded-45db-c7d8-e69dade950da",
    "papermill": {
     "duration": 0.018803,
     "end_time": "2023-11-28T08:06:37.456295",
     "exception": false,
     "start_time": "2023-11-28T08:06:37.437492",
     "status": "completed"
    },
    "tags": []
   },
   "outputs": [
    {
     "name": "stdout",
     "output_type": "stream",
     "text": [
      "column name: country\n",
      "number of unique values: 167\n"
     ]
    }
   ],
   "source": [
    "# check data validity for object columns\n",
    "for col in df.select_dtypes(include='object').columns:\n",
    "    if df[col].nunique() <= 15:\n",
    "        print('column name: ' + col)\n",
    "        print('number of unique values: ' + str(df[col].nunique()))\n",
    "        print('the unique values are: ' + df[col].unique())\n",
    "    elif df[col].nunique() > 15:\n",
    "        print('column name: ' + col)\n",
    "        print('number of unique values: ' + str(df[col].nunique()))"
   ]
  },
  {
   "cell_type": "code",
   "execution_count": 9,
   "id": "e1977839",
   "metadata": {
    "execution": {
     "iopub.execute_input": "2023-11-28T08:06:37.470266Z",
     "iopub.status.busy": "2023-11-28T08:06:37.469884Z",
     "iopub.status.idle": "2023-11-28T08:06:37.507451Z",
     "shell.execute_reply": "2023-11-28T08:06:37.505503Z"
    },
    "id": "YUUbcVcbNaZB",
    "outputId": "53fe902c-85a4-4466-abba-284261538d03",
    "papermill": {
     "duration": 0.048049,
     "end_time": "2023-11-28T08:06:37.510559",
     "exception": false,
     "start_time": "2023-11-28T08:06:37.462510",
     "status": "completed"
    },
    "tags": []
   },
   "outputs": [
    {
     "data": {
      "text/html": [
       "<div>\n",
       "<style scoped>\n",
       "    .dataframe tbody tr th:only-of-type {\n",
       "        vertical-align: middle;\n",
       "    }\n",
       "\n",
       "    .dataframe tbody tr th {\n",
       "        vertical-align: top;\n",
       "    }\n",
       "\n",
       "    .dataframe thead th {\n",
       "        text-align: right;\n",
       "    }\n",
       "</style>\n",
       "<table border=\"1\" class=\"dataframe\">\n",
       "  <thead>\n",
       "    <tr style=\"text-align: right;\">\n",
       "      <th></th>\n",
       "      <th>child_mort</th>\n",
       "      <th>exports</th>\n",
       "      <th>health</th>\n",
       "      <th>imports</th>\n",
       "      <th>income</th>\n",
       "      <th>inflation</th>\n",
       "      <th>life_expec</th>\n",
       "      <th>total_fer</th>\n",
       "      <th>gdpp</th>\n",
       "    </tr>\n",
       "  </thead>\n",
       "  <tbody>\n",
       "    <tr>\n",
       "      <th>count</th>\n",
       "      <td>167.00</td>\n",
       "      <td>167.00</td>\n",
       "      <td>167.00</td>\n",
       "      <td>167.00</td>\n",
       "      <td>167.00</td>\n",
       "      <td>167.00</td>\n",
       "      <td>167.00</td>\n",
       "      <td>167.00</td>\n",
       "      <td>167.00</td>\n",
       "    </tr>\n",
       "    <tr>\n",
       "      <th>mean</th>\n",
       "      <td>38.27</td>\n",
       "      <td>41.11</td>\n",
       "      <td>6.82</td>\n",
       "      <td>46.89</td>\n",
       "      <td>17144.69</td>\n",
       "      <td>7.78</td>\n",
       "      <td>70.56</td>\n",
       "      <td>2.95</td>\n",
       "      <td>12964.16</td>\n",
       "    </tr>\n",
       "    <tr>\n",
       "      <th>std</th>\n",
       "      <td>40.33</td>\n",
       "      <td>27.41</td>\n",
       "      <td>2.75</td>\n",
       "      <td>24.21</td>\n",
       "      <td>19278.07</td>\n",
       "      <td>10.57</td>\n",
       "      <td>8.89</td>\n",
       "      <td>1.51</td>\n",
       "      <td>18328.70</td>\n",
       "    </tr>\n",
       "    <tr>\n",
       "      <th>min</th>\n",
       "      <td>2.60</td>\n",
       "      <td>0.11</td>\n",
       "      <td>1.81</td>\n",
       "      <td>0.07</td>\n",
       "      <td>609.00</td>\n",
       "      <td>-4.21</td>\n",
       "      <td>32.10</td>\n",
       "      <td>1.15</td>\n",
       "      <td>231.00</td>\n",
       "    </tr>\n",
       "    <tr>\n",
       "      <th>25%</th>\n",
       "      <td>8.25</td>\n",
       "      <td>23.80</td>\n",
       "      <td>4.92</td>\n",
       "      <td>30.20</td>\n",
       "      <td>3355.00</td>\n",
       "      <td>1.81</td>\n",
       "      <td>65.30</td>\n",
       "      <td>1.80</td>\n",
       "      <td>1330.00</td>\n",
       "    </tr>\n",
       "    <tr>\n",
       "      <th>50%</th>\n",
       "      <td>19.30</td>\n",
       "      <td>35.00</td>\n",
       "      <td>6.32</td>\n",
       "      <td>43.30</td>\n",
       "      <td>9960.00</td>\n",
       "      <td>5.39</td>\n",
       "      <td>73.10</td>\n",
       "      <td>2.41</td>\n",
       "      <td>4660.00</td>\n",
       "    </tr>\n",
       "    <tr>\n",
       "      <th>75%</th>\n",
       "      <td>62.10</td>\n",
       "      <td>51.35</td>\n",
       "      <td>8.60</td>\n",
       "      <td>58.75</td>\n",
       "      <td>22800.00</td>\n",
       "      <td>10.75</td>\n",
       "      <td>76.80</td>\n",
       "      <td>3.88</td>\n",
       "      <td>14050.00</td>\n",
       "    </tr>\n",
       "    <tr>\n",
       "      <th>max</th>\n",
       "      <td>208.00</td>\n",
       "      <td>200.00</td>\n",
       "      <td>17.90</td>\n",
       "      <td>174.00</td>\n",
       "      <td>125000.00</td>\n",
       "      <td>104.00</td>\n",
       "      <td>82.80</td>\n",
       "      <td>7.49</td>\n",
       "      <td>105000.00</td>\n",
       "    </tr>\n",
       "  </tbody>\n",
       "</table>\n",
       "</div>"
      ],
      "text/plain": [
       "       child_mort  exports  health  imports     income  inflation  life_expec  \\\n",
       "count      167.00   167.00  167.00   167.00     167.00     167.00      167.00   \n",
       "mean        38.27    41.11    6.82    46.89   17144.69       7.78       70.56   \n",
       "std         40.33    27.41    2.75    24.21   19278.07      10.57        8.89   \n",
       "min          2.60     0.11    1.81     0.07     609.00      -4.21       32.10   \n",
       "25%          8.25    23.80    4.92    30.20    3355.00       1.81       65.30   \n",
       "50%         19.30    35.00    6.32    43.30    9960.00       5.39       73.10   \n",
       "75%         62.10    51.35    8.60    58.75   22800.00      10.75       76.80   \n",
       "max        208.00   200.00   17.90   174.00  125000.00     104.00       82.80   \n",
       "\n",
       "       total_fer       gdpp  \n",
       "count     167.00     167.00  \n",
       "mean        2.95   12964.16  \n",
       "std         1.51   18328.70  \n",
       "min         1.15     231.00  \n",
       "25%         1.80    1330.00  \n",
       "50%         2.41    4660.00  \n",
       "75%         3.88   14050.00  \n",
       "max         7.49  105000.00  "
      ]
     },
     "execution_count": 9,
     "metadata": {},
     "output_type": "execute_result"
    }
   ],
   "source": [
    "# check data validity for numerical columns\n",
    "df.select_dtypes(exclude='object').describe().round(2)"
   ]
  },
  {
   "cell_type": "code",
   "execution_count": 10,
   "id": "5d2fad4a",
   "metadata": {
    "execution": {
     "iopub.execute_input": "2023-11-28T08:06:37.525129Z",
     "iopub.status.busy": "2023-11-28T08:06:37.524768Z",
     "iopub.status.idle": "2023-11-28T08:06:37.532711Z",
     "shell.execute_reply": "2023-11-28T08:06:37.531311Z"
    },
    "id": "7k-gisHzNm7_",
    "papermill": {
     "duration": 0.017801,
     "end_time": "2023-11-28T08:06:37.535120",
     "exception": false,
     "start_time": "2023-11-28T08:06:37.517319",
     "status": "completed"
    },
    "tags": []
   },
   "outputs": [],
   "source": [
    "# drop 'country' column and save new DataFrame as train_df\n",
    "train_df = df.drop(columns='country')"
   ]
  },
  {
   "cell_type": "code",
   "execution_count": 11,
   "id": "cc932bc3",
   "metadata": {
    "execution": {
     "iopub.execute_input": "2023-11-28T08:06:37.550121Z",
     "iopub.status.busy": "2023-11-28T08:06:37.549789Z",
     "iopub.status.idle": "2023-11-28T08:06:37.560041Z",
     "shell.execute_reply": "2023-11-28T08:06:37.558399Z"
    },
    "id": "eIaGHmDTOLIu",
    "papermill": {
     "duration": 0.019181,
     "end_time": "2023-11-28T08:06:37.561771",
     "exception": false,
     "start_time": "2023-11-28T08:06:37.542590",
     "status": "completed"
    },
    "tags": []
   },
   "outputs": [],
   "source": [
    "# transform DataFram 'train_df' with StandardScaler() to avoid conflecting in model\n",
    "scaler_df = StandardScaler().fit_transform(train_df)"
   ]
  },
  {
   "cell_type": "markdown",
   "id": "e4dbd33e",
   "metadata": {
    "id": "aDvEv2P3PAEy",
    "papermill": {
     "duration": 0.005258,
     "end_time": "2023-11-28T08:06:37.572643",
     "exception": false,
     "start_time": "2023-11-28T08:06:37.567385",
     "status": "completed"
    },
    "tags": []
   },
   "source": [
    "# Build Model"
   ]
  },
  {
   "cell_type": "code",
   "execution_count": 12,
   "id": "f4169379",
   "metadata": {
    "execution": {
     "iopub.execute_input": "2023-11-28T08:06:37.585470Z",
     "iopub.status.busy": "2023-11-28T08:06:37.585152Z",
     "iopub.status.idle": "2023-11-28T08:06:37.692298Z",
     "shell.execute_reply": "2023-11-28T08:06:37.691115Z"
    },
    "id": "_u2lOvc_PCX-",
    "outputId": "2373f375-a14f-4a12-a8e5-715f4ea5d2c1",
    "papermill": {
     "duration": 0.116302,
     "end_time": "2023-11-28T08:06:37.694361",
     "exception": false,
     "start_time": "2023-11-28T08:06:37.578059",
     "status": "completed"
    },
    "tags": []
   },
   "outputs": [
    {
     "name": "stdout",
     "output_type": "stream",
     "text": [
      "number of clusters: 1 \t\t inertia is: 1503\n",
      "number of clusters: 2 \t\t inertia is: 1050\n",
      "number of clusters: 3 \t\t inertia is: 831\n",
      "number of clusters: 4 \t\t inertia is: 758\n",
      "number of clusters: 5 \t\t inertia is: 681\n",
      "number of clusters: 6 \t\t inertia is: 592\n",
      "number of clusters: 7 \t\t inertia is: 562\n",
      "number of clusters: 8 \t\t inertia is: 539\n",
      "number of clusters: 9 \t\t inertia is: 456\n",
      "number of clusters: 10 \t\t inertia is: 401\n",
      "number of clusters: 11 \t\t inertia is: 380\n",
      "number of clusters: 12 \t\t inertia is: 370\n",
      "number of clusters: 13 \t\t inertia is: 349\n",
      "number of clusters: 14 \t\t inertia is: 334\n"
     ]
    }
   ],
   "source": [
    "# create empty list named 'inertia_list' to save every new value of inertia.\n",
    "inertia_list=[]\n",
    "# for loop to build model then fit it with data then evaluate it by measure its inertia\n",
    "for i in range(1, 15, 1):\n",
    "    # build model with KMeans Algorthim\n",
    "    model = KMeans(n_clusters=i, random_state=1, n_init='auto')\n",
    "    # fit model with data 'scaler_df'\n",
    "    model.fit_transform(scaler_df)\n",
    "    # measure inertia of model and save it in a variable named 'inertia'\n",
    "    inertia = model.inertia_\n",
    "    # add the new value of inertia to 'inertia_list'\n",
    "    inertia_list.append(inertia)\n",
    "    # print the output\n",
    "    print('number of clusters: %d \\t\\t inertia is: %d'%(i, inertia))\n"
   ]
  },
  {
   "cell_type": "code",
   "execution_count": 13,
   "id": "58642175",
   "metadata": {
    "execution": {
     "iopub.execute_input": "2023-11-28T08:06:37.708066Z",
     "iopub.status.busy": "2023-11-28T08:06:37.707389Z",
     "iopub.status.idle": "2023-11-28T08:06:39.433572Z",
     "shell.execute_reply": "2023-11-28T08:06:39.432730Z"
    },
    "id": "HVHuSZ3UQemo",
    "outputId": "f17747ea-ec93-4a80-e3cd-065d282a14c8",
    "papermill": {
     "duration": 1.735345,
     "end_time": "2023-11-28T08:06:39.435739",
     "exception": false,
     "start_time": "2023-11-28T08:06:37.700394",
     "status": "completed"
    },
    "tags": []
   },
   "outputs": [
    {
     "data": {
      "text/html": [
       "        <script type=\"text/javascript\">\n",
       "        window.PlotlyConfig = {MathJaxConfig: 'local'};\n",
       "        if (window.MathJax && window.MathJax.Hub && window.MathJax.Hub.Config) {window.MathJax.Hub.Config({SVG: {font: \"STIX-Web\"}});}\n",
       "        if (typeof require !== 'undefined') {\n",
       "        require.undef(\"plotly\");\n",
       "        requirejs.config({\n",
       "            paths: {\n",
       "                'plotly': ['https://cdn.plot.ly/plotly-2.25.2.min']\n",
       "            }\n",
       "        });\n",
       "        require(['plotly'], function(Plotly) {\n",
       "            window._Plotly = Plotly;\n",
       "        });\n",
       "        }\n",
       "        </script>\n",
       "        "
      ]
     },
     "metadata": {},
     "output_type": "display_data"
    },
    {
     "data": {
      "text/html": [
       "<div>                            <div id=\"0dac8ae5-3f3d-48ed-ad95-5da51afb21ef\" class=\"plotly-graph-div\" style=\"height:525px; width:100%;\"></div>            <script type=\"text/javascript\">                require([\"plotly\"], function(Plotly) {                    window.PLOTLYENV=window.PLOTLYENV || {};                                    if (document.getElementById(\"0dac8ae5-3f3d-48ed-ad95-5da51afb21ef\")) {                    Plotly.newPlot(                        \"0dac8ae5-3f3d-48ed-ad95-5da51afb21ef\",                        [{\"hovertemplate\":\"x=%{x}\\u003cbr\\u003ey=%{y}\\u003cextra\\u003e\\u003c\\u002fextra\\u003e\",\"legendgroup\":\"\",\"line\":{\"color\":\"#636efa\",\"dash\":\"solid\"},\"marker\":{\"symbol\":\"circle\"},\"mode\":\"markers+lines\",\"name\":\"\",\"orientation\":\"v\",\"showlegend\":false,\"x\":[1,2,3,4,5,6,7,8,9,10,11,12,13,14],\"xaxis\":\"x\",\"y\":[1503.0,1050.2145582853304,831.4244352086876,758.8824564171049,681.014141857817,592.5639489417513,562.0405613113887,539.9414591938162,456.000610611865,401.8124677736031,380.30356433031073,370.7959671882411,349.42319608576844,334.1883270575573],\"yaxis\":\"y\",\"type\":\"scatter\"}],                        {\"template\":{\"data\":{\"histogram2dcontour\":[{\"type\":\"histogram2dcontour\",\"colorbar\":{\"outlinewidth\":0,\"ticks\":\"\"},\"colorscale\":[[0.0,\"#0d0887\"],[0.1111111111111111,\"#46039f\"],[0.2222222222222222,\"#7201a8\"],[0.3333333333333333,\"#9c179e\"],[0.4444444444444444,\"#bd3786\"],[0.5555555555555556,\"#d8576b\"],[0.6666666666666666,\"#ed7953\"],[0.7777777777777778,\"#fb9f3a\"],[0.8888888888888888,\"#fdca26\"],[1.0,\"#f0f921\"]]}],\"choropleth\":[{\"type\":\"choropleth\",\"colorbar\":{\"outlinewidth\":0,\"ticks\":\"\"}}],\"histogram2d\":[{\"type\":\"histogram2d\",\"colorbar\":{\"outlinewidth\":0,\"ticks\":\"\"},\"colorscale\":[[0.0,\"#0d0887\"],[0.1111111111111111,\"#46039f\"],[0.2222222222222222,\"#7201a8\"],[0.3333333333333333,\"#9c179e\"],[0.4444444444444444,\"#bd3786\"],[0.5555555555555556,\"#d8576b\"],[0.6666666666666666,\"#ed7953\"],[0.7777777777777778,\"#fb9f3a\"],[0.8888888888888888,\"#fdca26\"],[1.0,\"#f0f921\"]]}],\"heatmap\":[{\"type\":\"heatmap\",\"colorbar\":{\"outlinewidth\":0,\"ticks\":\"\"},\"colorscale\":[[0.0,\"#0d0887\"],[0.1111111111111111,\"#46039f\"],[0.2222222222222222,\"#7201a8\"],[0.3333333333333333,\"#9c179e\"],[0.4444444444444444,\"#bd3786\"],[0.5555555555555556,\"#d8576b\"],[0.6666666666666666,\"#ed7953\"],[0.7777777777777778,\"#fb9f3a\"],[0.8888888888888888,\"#fdca26\"],[1.0,\"#f0f921\"]]}],\"heatmapgl\":[{\"type\":\"heatmapgl\",\"colorbar\":{\"outlinewidth\":0,\"ticks\":\"\"},\"colorscale\":[[0.0,\"#0d0887\"],[0.1111111111111111,\"#46039f\"],[0.2222222222222222,\"#7201a8\"],[0.3333333333333333,\"#9c179e\"],[0.4444444444444444,\"#bd3786\"],[0.5555555555555556,\"#d8576b\"],[0.6666666666666666,\"#ed7953\"],[0.7777777777777778,\"#fb9f3a\"],[0.8888888888888888,\"#fdca26\"],[1.0,\"#f0f921\"]]}],\"contourcarpet\":[{\"type\":\"contourcarpet\",\"colorbar\":{\"outlinewidth\":0,\"ticks\":\"\"}}],\"contour\":[{\"type\":\"contour\",\"colorbar\":{\"outlinewidth\":0,\"ticks\":\"\"},\"colorscale\":[[0.0,\"#0d0887\"],[0.1111111111111111,\"#46039f\"],[0.2222222222222222,\"#7201a8\"],[0.3333333333333333,\"#9c179e\"],[0.4444444444444444,\"#bd3786\"],[0.5555555555555556,\"#d8576b\"],[0.6666666666666666,\"#ed7953\"],[0.7777777777777778,\"#fb9f3a\"],[0.8888888888888888,\"#fdca26\"],[1.0,\"#f0f921\"]]}],\"surface\":[{\"type\":\"surface\",\"colorbar\":{\"outlinewidth\":0,\"ticks\":\"\"},\"colorscale\":[[0.0,\"#0d0887\"],[0.1111111111111111,\"#46039f\"],[0.2222222222222222,\"#7201a8\"],[0.3333333333333333,\"#9c179e\"],[0.4444444444444444,\"#bd3786\"],[0.5555555555555556,\"#d8576b\"],[0.6666666666666666,\"#ed7953\"],[0.7777777777777778,\"#fb9f3a\"],[0.8888888888888888,\"#fdca26\"],[1.0,\"#f0f921\"]]}],\"mesh3d\":[{\"type\":\"mesh3d\",\"colorbar\":{\"outlinewidth\":0,\"ticks\":\"\"}}],\"scatter\":[{\"fillpattern\":{\"fillmode\":\"overlay\",\"size\":10,\"solidity\":0.2},\"type\":\"scatter\"}],\"parcoords\":[{\"type\":\"parcoords\",\"line\":{\"colorbar\":{\"outlinewidth\":0,\"ticks\":\"\"}}}],\"scatterpolargl\":[{\"type\":\"scatterpolargl\",\"marker\":{\"colorbar\":{\"outlinewidth\":0,\"ticks\":\"\"}}}],\"bar\":[{\"error_x\":{\"color\":\"#2a3f5f\"},\"error_y\":{\"color\":\"#2a3f5f\"},\"marker\":{\"line\":{\"color\":\"#E5ECF6\",\"width\":0.5},\"pattern\":{\"fillmode\":\"overlay\",\"size\":10,\"solidity\":0.2}},\"type\":\"bar\"}],\"scattergeo\":[{\"type\":\"scattergeo\",\"marker\":{\"colorbar\":{\"outlinewidth\":0,\"ticks\":\"\"}}}],\"scatterpolar\":[{\"type\":\"scatterpolar\",\"marker\":{\"colorbar\":{\"outlinewidth\":0,\"ticks\":\"\"}}}],\"histogram\":[{\"marker\":{\"pattern\":{\"fillmode\":\"overlay\",\"size\":10,\"solidity\":0.2}},\"type\":\"histogram\"}],\"scattergl\":[{\"type\":\"scattergl\",\"marker\":{\"colorbar\":{\"outlinewidth\":0,\"ticks\":\"\"}}}],\"scatter3d\":[{\"type\":\"scatter3d\",\"line\":{\"colorbar\":{\"outlinewidth\":0,\"ticks\":\"\"}},\"marker\":{\"colorbar\":{\"outlinewidth\":0,\"ticks\":\"\"}}}],\"scattermapbox\":[{\"type\":\"scattermapbox\",\"marker\":{\"colorbar\":{\"outlinewidth\":0,\"ticks\":\"\"}}}],\"scatterternary\":[{\"type\":\"scatterternary\",\"marker\":{\"colorbar\":{\"outlinewidth\":0,\"ticks\":\"\"}}}],\"scattercarpet\":[{\"type\":\"scattercarpet\",\"marker\":{\"colorbar\":{\"outlinewidth\":0,\"ticks\":\"\"}}}],\"carpet\":[{\"aaxis\":{\"endlinecolor\":\"#2a3f5f\",\"gridcolor\":\"white\",\"linecolor\":\"white\",\"minorgridcolor\":\"white\",\"startlinecolor\":\"#2a3f5f\"},\"baxis\":{\"endlinecolor\":\"#2a3f5f\",\"gridcolor\":\"white\",\"linecolor\":\"white\",\"minorgridcolor\":\"white\",\"startlinecolor\":\"#2a3f5f\"},\"type\":\"carpet\"}],\"table\":[{\"cells\":{\"fill\":{\"color\":\"#EBF0F8\"},\"line\":{\"color\":\"white\"}},\"header\":{\"fill\":{\"color\":\"#C8D4E3\"},\"line\":{\"color\":\"white\"}},\"type\":\"table\"}],\"barpolar\":[{\"marker\":{\"line\":{\"color\":\"#E5ECF6\",\"width\":0.5},\"pattern\":{\"fillmode\":\"overlay\",\"size\":10,\"solidity\":0.2}},\"type\":\"barpolar\"}],\"pie\":[{\"automargin\":true,\"type\":\"pie\"}]},\"layout\":{\"autotypenumbers\":\"strict\",\"colorway\":[\"#636efa\",\"#EF553B\",\"#00cc96\",\"#ab63fa\",\"#FFA15A\",\"#19d3f3\",\"#FF6692\",\"#B6E880\",\"#FF97FF\",\"#FECB52\"],\"font\":{\"color\":\"#2a3f5f\"},\"hovermode\":\"closest\",\"hoverlabel\":{\"align\":\"left\"},\"paper_bgcolor\":\"white\",\"plot_bgcolor\":\"#E5ECF6\",\"polar\":{\"bgcolor\":\"#E5ECF6\",\"angularaxis\":{\"gridcolor\":\"white\",\"linecolor\":\"white\",\"ticks\":\"\"},\"radialaxis\":{\"gridcolor\":\"white\",\"linecolor\":\"white\",\"ticks\":\"\"}},\"ternary\":{\"bgcolor\":\"#E5ECF6\",\"aaxis\":{\"gridcolor\":\"white\",\"linecolor\":\"white\",\"ticks\":\"\"},\"baxis\":{\"gridcolor\":\"white\",\"linecolor\":\"white\",\"ticks\":\"\"},\"caxis\":{\"gridcolor\":\"white\",\"linecolor\":\"white\",\"ticks\":\"\"}},\"coloraxis\":{\"colorbar\":{\"outlinewidth\":0,\"ticks\":\"\"}},\"colorscale\":{\"sequential\":[[0.0,\"#0d0887\"],[0.1111111111111111,\"#46039f\"],[0.2222222222222222,\"#7201a8\"],[0.3333333333333333,\"#9c179e\"],[0.4444444444444444,\"#bd3786\"],[0.5555555555555556,\"#d8576b\"],[0.6666666666666666,\"#ed7953\"],[0.7777777777777778,\"#fb9f3a\"],[0.8888888888888888,\"#fdca26\"],[1.0,\"#f0f921\"]],\"sequentialminus\":[[0.0,\"#0d0887\"],[0.1111111111111111,\"#46039f\"],[0.2222222222222222,\"#7201a8\"],[0.3333333333333333,\"#9c179e\"],[0.4444444444444444,\"#bd3786\"],[0.5555555555555556,\"#d8576b\"],[0.6666666666666666,\"#ed7953\"],[0.7777777777777778,\"#fb9f3a\"],[0.8888888888888888,\"#fdca26\"],[1.0,\"#f0f921\"]],\"diverging\":[[0,\"#8e0152\"],[0.1,\"#c51b7d\"],[0.2,\"#de77ae\"],[0.3,\"#f1b6da\"],[0.4,\"#fde0ef\"],[0.5,\"#f7f7f7\"],[0.6,\"#e6f5d0\"],[0.7,\"#b8e186\"],[0.8,\"#7fbc41\"],[0.9,\"#4d9221\"],[1,\"#276419\"]]},\"xaxis\":{\"gridcolor\":\"white\",\"linecolor\":\"white\",\"ticks\":\"\",\"title\":{\"standoff\":15},\"zerolinecolor\":\"white\",\"automargin\":true,\"zerolinewidth\":2},\"yaxis\":{\"gridcolor\":\"white\",\"linecolor\":\"white\",\"ticks\":\"\",\"title\":{\"standoff\":15},\"zerolinecolor\":\"white\",\"automargin\":true,\"zerolinewidth\":2},\"scene\":{\"xaxis\":{\"backgroundcolor\":\"#E5ECF6\",\"gridcolor\":\"white\",\"linecolor\":\"white\",\"showbackground\":true,\"ticks\":\"\",\"zerolinecolor\":\"white\",\"gridwidth\":2},\"yaxis\":{\"backgroundcolor\":\"#E5ECF6\",\"gridcolor\":\"white\",\"linecolor\":\"white\",\"showbackground\":true,\"ticks\":\"\",\"zerolinecolor\":\"white\",\"gridwidth\":2},\"zaxis\":{\"backgroundcolor\":\"#E5ECF6\",\"gridcolor\":\"white\",\"linecolor\":\"white\",\"showbackground\":true,\"ticks\":\"\",\"zerolinecolor\":\"white\",\"gridwidth\":2}},\"shapedefaults\":{\"line\":{\"color\":\"#2a3f5f\"}},\"annotationdefaults\":{\"arrowcolor\":\"#2a3f5f\",\"arrowhead\":0,\"arrowwidth\":1},\"geo\":{\"bgcolor\":\"white\",\"landcolor\":\"#E5ECF6\",\"subunitcolor\":\"white\",\"showland\":true,\"showlakes\":true,\"lakecolor\":\"white\"},\"title\":{\"x\":0.05},\"mapbox\":{\"style\":\"light\"}}},\"xaxis\":{\"anchor\":\"y\",\"domain\":[0.0,1.0],\"title\":{\"text\":\"number of clusters\"}},\"yaxis\":{\"anchor\":\"x\",\"domain\":[0.0,1.0],\"title\":{\"text\":\"inertia\"}},\"legend\":{\"tracegroupgap\":0},\"title\":{\"text\":\"Elbow Method for Optimal K\"}},                        {\"responsive\": true}                    ).then(function(){\n",
       "                            \n",
       "var gd = document.getElementById('0dac8ae5-3f3d-48ed-ad95-5da51afb21ef');\n",
       "var x = new MutationObserver(function (mutations, observer) {{\n",
       "        var display = window.getComputedStyle(gd).display;\n",
       "        if (!display || display === 'none') {{\n",
       "            console.log([gd, 'removed!']);\n",
       "            Plotly.purge(gd);\n",
       "            observer.disconnect();\n",
       "        }}\n",
       "}});\n",
       "\n",
       "// Listen for the removal of the full notebook cells\n",
       "var notebookContainer = gd.closest('#notebook-container');\n",
       "if (notebookContainer) {{\n",
       "    x.observe(notebookContainer, {childList: true});\n",
       "}}\n",
       "\n",
       "// Listen for the clearing of the current output cell\n",
       "var outputEl = gd.closest('.output');\n",
       "if (outputEl) {{\n",
       "    x.observe(outputEl, {childList: true});\n",
       "}}\n",
       "\n",
       "                        })                };                });            </script>        </div>"
      ]
     },
     "metadata": {},
     "output_type": "display_data"
    }
   ],
   "source": [
    "# visulization of Elbow Method to detremine optimal number of clusters.\n",
    "fig = px.line(x=range(1, 15, 1),\n",
    "              y=inertia_list,\n",
    "              markers=True,\n",
    "              title='Elbow Method for Optimal K')\n",
    "\n",
    "fig.update_xaxes(title='number of clusters')\n",
    "fig.update_yaxes(title='inertia')\n",
    "\n",
    "fig.show()"
   ]
  },
  {
   "cell_type": "code",
   "execution_count": 14,
   "id": "a5dc1d32",
   "metadata": {
    "execution": {
     "iopub.execute_input": "2023-11-28T08:06:39.452897Z",
     "iopub.status.busy": "2023-11-28T08:06:39.450843Z",
     "iopub.status.idle": "2023-11-28T08:06:39.463363Z",
     "shell.execute_reply": "2023-11-28T08:06:39.462674Z"
    },
    "id": "TuGuEZqj4xml",
    "outputId": "ee81fa2e-7885-4463-cbb8-c95bb6b03b1e",
    "papermill": {
     "duration": 0.023166,
     "end_time": "2023-11-28T08:06:39.465952",
     "exception": false,
     "start_time": "2023-11-28T08:06:39.442786",
     "status": "completed"
    },
    "tags": []
   },
   "outputs": [
    {
     "name": "stdout",
     "output_type": "stream",
     "text": [
      "[0 4 6 0 4 6 6 2 2 6 4 4 6 4 1 2 1 0 1 6 4 1 6 3 4 0 0 1 0 2 1 0 0 4 6 6 0\n",
      " 0 3 4 0 4 4 4 2 6 6 6 4 3 6 4 1 2 2 3 0 4 2 0 2 1 6 0 0 1 0 4 2 6 6 6 6 2\n",
      " 4 2 6 2 1 6 0 0 3 1 6 4 4 0 0 3 4 5 4 0 0 1 1 0 5 0 1 1 1 3 4 6 0 6 1 6 2\n",
      " 2 0 3 2 3 6 1 1 6 6 4 4 2 4 6 0 1 3 0 4 1 0 5 4 4 1 6 4 2 6 1 0 1 2 2 6 0\n",
      " 1 0 0 6 1 6 1 0 1 3 2 2 4 6 1 3 1 6 0]\n"
     ]
    }
   ],
   "source": [
    "# from previous the optimal k equal 7\n",
    "# build model with n_clusters=7\n",
    "model = KMeans(n_clusters=7, n_init='auto', random_state=1)\n",
    "# fit model with data 'scaler_df'\n",
    "model.fit_transform(scaler_df)\n",
    "# get the labels (clustring)\n",
    "labels = model.labels_\n",
    "# print output\n",
    "print(labels)"
   ]
  },
  {
   "cell_type": "code",
   "execution_count": 15,
   "id": "594b65f2",
   "metadata": {
    "execution": {
     "iopub.execute_input": "2023-11-28T08:06:39.480948Z",
     "iopub.status.busy": "2023-11-28T08:06:39.480636Z",
     "iopub.status.idle": "2023-11-28T08:06:39.490485Z",
     "shell.execute_reply": "2023-11-28T08:06:39.488628Z"
    },
    "id": "c618ctIB6WB8",
    "outputId": "af16d7dd-649f-4388-b6dc-c3c0e7ccf9bd",
    "papermill": {
     "duration": 0.020072,
     "end_time": "2023-11-28T08:06:39.493342",
     "exception": false,
     "start_time": "2023-11-28T08:06:39.473270",
     "status": "completed"
    },
    "tags": []
   },
   "outputs": [
    {
     "data": {
      "text/plain": [
       "0      0\n",
       "1      4\n",
       "2      6\n",
       "3      0\n",
       "4      4\n",
       "      ..\n",
       "162    1\n",
       "163    3\n",
       "164    1\n",
       "165    6\n",
       "166    0\n",
       "Name: group, Length: 167, dtype: int32"
      ]
     },
     "execution_count": 15,
     "metadata": {},
     "output_type": "execute_result"
    }
   ],
   "source": [
    "# create new column named 'group' in DataFrame df by labels data.\n",
    "df['group'] = np.array(labels)\n",
    "\n",
    "df['group']"
   ]
  },
  {
   "cell_type": "code",
   "execution_count": 16,
   "id": "f7c0be66",
   "metadata": {
    "execution": {
     "iopub.execute_input": "2023-11-28T08:06:39.511378Z",
     "iopub.status.busy": "2023-11-28T08:06:39.510631Z",
     "iopub.status.idle": "2023-11-28T08:06:39.525134Z",
     "shell.execute_reply": "2023-11-28T08:06:39.524306Z"
    },
    "id": "sAFdQkrp6jGG",
    "outputId": "90c35fec-fd21-40b4-8b62-fa5fd42406c3",
    "papermill": {
     "duration": 0.025168,
     "end_time": "2023-11-28T08:06:39.527092",
     "exception": false,
     "start_time": "2023-11-28T08:06:39.501924",
     "status": "completed"
    },
    "tags": []
   },
   "outputs": [
    {
     "data": {
      "text/html": [
       "<div>\n",
       "<style scoped>\n",
       "    .dataframe tbody tr th:only-of-type {\n",
       "        vertical-align: middle;\n",
       "    }\n",
       "\n",
       "    .dataframe tbody tr th {\n",
       "        vertical-align: top;\n",
       "    }\n",
       "\n",
       "    .dataframe thead th {\n",
       "        text-align: right;\n",
       "    }\n",
       "</style>\n",
       "<table border=\"1\" class=\"dataframe\">\n",
       "  <thead>\n",
       "    <tr style=\"text-align: right;\">\n",
       "      <th></th>\n",
       "      <th>country</th>\n",
       "      <th>child_mort</th>\n",
       "      <th>exports</th>\n",
       "      <th>health</th>\n",
       "      <th>imports</th>\n",
       "      <th>income</th>\n",
       "      <th>inflation</th>\n",
       "      <th>life_expec</th>\n",
       "      <th>total_fer</th>\n",
       "      <th>gdpp</th>\n",
       "      <th>group</th>\n",
       "    </tr>\n",
       "  </thead>\n",
       "  <tbody>\n",
       "    <tr>\n",
       "      <th>161</th>\n",
       "      <td>Uzbekistan</td>\n",
       "      <td>36.3</td>\n",
       "      <td>31.7</td>\n",
       "      <td>5.81</td>\n",
       "      <td>28.5</td>\n",
       "      <td>4240</td>\n",
       "      <td>16.50</td>\n",
       "      <td>68.8</td>\n",
       "      <td>2.34</td>\n",
       "      <td>1380</td>\n",
       "      <td>6</td>\n",
       "    </tr>\n",
       "    <tr>\n",
       "      <th>19</th>\n",
       "      <td>Bolivia</td>\n",
       "      <td>46.6</td>\n",
       "      <td>41.2</td>\n",
       "      <td>4.84</td>\n",
       "      <td>34.3</td>\n",
       "      <td>5410</td>\n",
       "      <td>8.78</td>\n",
       "      <td>71.6</td>\n",
       "      <td>3.20</td>\n",
       "      <td>1980</td>\n",
       "      <td>6</td>\n",
       "    </tr>\n",
       "    <tr>\n",
       "      <th>39</th>\n",
       "      <td>Costa Rica</td>\n",
       "      <td>10.2</td>\n",
       "      <td>33.2</td>\n",
       "      <td>10.90</td>\n",
       "      <td>35.0</td>\n",
       "      <td>13000</td>\n",
       "      <td>6.57</td>\n",
       "      <td>80.4</td>\n",
       "      <td>1.92</td>\n",
       "      <td>8200</td>\n",
       "      <td>4</td>\n",
       "    </tr>\n",
       "  </tbody>\n",
       "</table>\n",
       "</div>"
      ],
      "text/plain": [
       "        country  child_mort  exports  health  imports  income  inflation  \\\n",
       "161  Uzbekistan        36.3     31.7    5.81     28.5    4240      16.50   \n",
       "19      Bolivia        46.6     41.2    4.84     34.3    5410       8.78   \n",
       "39   Costa Rica        10.2     33.2   10.90     35.0   13000       6.57   \n",
       "\n",
       "     life_expec  total_fer  gdpp  group  \n",
       "161        68.8       2.34  1380      6  \n",
       "19         71.6       3.20  1980      6  \n",
       "39         80.4       1.92  8200      4  "
      ]
     },
     "execution_count": 16,
     "metadata": {},
     "output_type": "execute_result"
    }
   ],
   "source": [
    "# check changes.\n",
    "df.sample(3)"
   ]
  },
  {
   "cell_type": "code",
   "execution_count": 17,
   "id": "3716c569",
   "metadata": {
    "execution": {
     "iopub.execute_input": "2023-11-28T08:06:39.541847Z",
     "iopub.status.busy": "2023-11-28T08:06:39.541323Z",
     "iopub.status.idle": "2023-11-28T08:06:39.554021Z",
     "shell.execute_reply": "2023-11-28T08:06:39.552811Z"
    },
    "id": "AytQ3RfW65qc",
    "outputId": "7f70d4f4-705b-4a24-f7e8-2ed67492bbd9",
    "papermill": {
     "duration": 0.022562,
     "end_time": "2023-11-28T08:06:39.556245",
     "exception": false,
     "start_time": "2023-11-28T08:06:39.533683",
     "status": "completed"
    },
    "tags": []
   },
   "outputs": [
    {
     "data": {
      "text/html": [
       "<div>\n",
       "<style scoped>\n",
       "    .dataframe tbody tr th:only-of-type {\n",
       "        vertical-align: middle;\n",
       "    }\n",
       "\n",
       "    .dataframe tbody tr th {\n",
       "        vertical-align: top;\n",
       "    }\n",
       "\n",
       "    .dataframe thead th {\n",
       "        text-align: right;\n",
       "    }\n",
       "</style>\n",
       "<table border=\"1\" class=\"dataframe\">\n",
       "  <thead>\n",
       "    <tr style=\"text-align: right;\">\n",
       "      <th></th>\n",
       "      <th>country</th>\n",
       "      <th>child_mort</th>\n",
       "      <th>exports</th>\n",
       "      <th>health</th>\n",
       "      <th>imports</th>\n",
       "      <th>income</th>\n",
       "      <th>inflation</th>\n",
       "      <th>life_expec</th>\n",
       "      <th>total_fer</th>\n",
       "      <th>gdpp</th>\n",
       "      <th>group</th>\n",
       "    </tr>\n",
       "  </thead>\n",
       "  <tbody>\n",
       "    <tr>\n",
       "      <th>47</th>\n",
       "      <td>Egypt</td>\n",
       "      <td>29.1</td>\n",
       "      <td>21.3</td>\n",
       "      <td>4.66</td>\n",
       "      <td>26.6</td>\n",
       "      <td>9860</td>\n",
       "      <td>10.1</td>\n",
       "      <td>70.5</td>\n",
       "      <td>3.19</td>\n",
       "      <td>2600</td>\n",
       "      <td>6</td>\n",
       "    </tr>\n",
       "  </tbody>\n",
       "</table>\n",
       "</div>"
      ],
      "text/plain": [
       "   country  child_mort  exports  health  imports  income  inflation  \\\n",
       "47   Egypt        29.1     21.3    4.66     26.6    9860       10.1   \n",
       "\n",
       "    life_expec  total_fer  gdpp  group  \n",
       "47        70.5       3.19  2600      6  "
      ]
     },
     "execution_count": 17,
     "metadata": {},
     "output_type": "execute_result"
    }
   ],
   "source": [
    "# select record of country equal Egypt.\n",
    "df[df['country'] == 'Egypt']"
   ]
  },
  {
   "cell_type": "code",
   "execution_count": 18,
   "id": "8e0613c2",
   "metadata": {
    "execution": {
     "iopub.execute_input": "2023-11-28T08:06:39.573883Z",
     "iopub.status.busy": "2023-11-28T08:06:39.573269Z",
     "iopub.status.idle": "2023-11-28T08:06:39.580699Z",
     "shell.execute_reply": "2023-11-28T08:06:39.579841Z"
    },
    "id": "8slhZveA7By2",
    "outputId": "17457d99-dbbe-4609-c8a9-71703b897e1f",
    "papermill": {
     "duration": 0.018464,
     "end_time": "2023-11-28T08:06:39.582557",
     "exception": false,
     "start_time": "2023-11-28T08:06:39.564093",
     "status": "completed"
    },
    "tags": []
   },
   "outputs": [
    {
     "data": {
      "text/plain": [
       "2                 Algeria\n",
       "5               Argentina\n",
       "6                 Armenia\n",
       "9              Azerbaijan\n",
       "12             Bangladesh\n",
       "19                Bolivia\n",
       "22                 Brazil\n",
       "34                  China\n",
       "35               Colombia\n",
       "45     Dominican Republic\n",
       "46                Ecuador\n",
       "47                  Egypt\n",
       "50                Eritrea\n",
       "62              Guatemala\n",
       "69                  India\n",
       "70              Indonesia\n",
       "71                   Iran\n",
       "72                   Iraq\n",
       "76                Jamaica\n",
       "79             Kazakhstan\n",
       "84                    Lao\n",
       "105               Morocco\n",
       "107               Myanmar\n",
       "109                 Nepal\n",
       "116              Pakistan\n",
       "119                  Peru\n",
       "120           Philippines\n",
       "125                Russia\n",
       "137          South Africa\n",
       "140             Sri Lanka\n",
       "146            Tajikistan\n",
       "151                 Tonga\n",
       "153                Turkey\n",
       "161            Uzbekistan\n",
       "165                 Yemen\n",
       "Name: country, dtype: object"
      ]
     },
     "execution_count": 18,
     "metadata": {},
     "output_type": "execute_result"
    }
   ],
   "source": [
    "# check group number 6.\n",
    "df[df['group']==6]['country']"
   ]
  }
 ],
 "metadata": {
  "colab": {
   "provenance": []
  },
  "kaggle": {
   "accelerator": "none",
   "dataSources": [
    {
     "datasetId": 721951,
     "sourceId": 1255613,
     "sourceType": "datasetVersion"
    }
   ],
   "dockerImageVersionId": 30587,
   "isGpuEnabled": false,
   "isInternetEnabled": true,
   "language": "python",
   "sourceType": "notebook"
  },
  "kernelspec": {
   "display_name": "Python 3",
   "language": "python",
   "name": "python3"
  },
  "language_info": {
   "codemirror_mode": {
    "name": "ipython",
    "version": 3
   },
   "file_extension": ".py",
   "mimetype": "text/x-python",
   "name": "python",
   "nbconvert_exporter": "python",
   "pygments_lexer": "ipython3",
   "version": "3.10.12"
  },
  "papermill": {
   "default_parameters": {},
   "duration": 8.251415,
   "end_time": "2023-11-28T08:06:40.212013",
   "environment_variables": {},
   "exception": null,
   "input_path": "__notebook__.ipynb",
   "output_path": "__notebook__.ipynb",
   "parameters": {},
   "start_time": "2023-11-28T08:06:31.960598",
   "version": "2.4.0"
  }
 },
 "nbformat": 4,
 "nbformat_minor": 5
}
